{
 "cells": [
  {
   "cell_type": "markdown",
   "metadata": {},
   "source": [
    "# GAMA and FERMI-LAT Survey"
   ]
  },
  {
   "cell_type": "code",
   "execution_count": 1,
   "metadata": {},
   "outputs": [],
   "source": [
    "#All the fun tools one might need\n",
    "\n",
    "import numpy as np\n",
    "import matplotlib.pyplot as plt\n",
    "#scipy --> https://www.scipy.org/about.html\n",
    "import scipy.ndimage as ndi\n",
    "from astropy.visualization import simple_norm\n",
    "from astropy.modeling import models\n",
    "import photutils\n",
    "import time\n",
    "#import pandas as pd (maybe later?)\n",
    "%matplotlib inline\n",
    "\n",
    "from astropy.io import fits\n",
    "from astropy.utils.data import get_pkg_data_filename\n",
    "from reproject import reproject_interp\n",
    "\n",
    "from matplotlib import rcParams\n",
    "#rc --> run time configurations\n",
    "#dpi --> dots per inch\n",
    "rcParams[\"savefig.dpi\"] = 150\n",
    "rcParams[\"figure.dpi\"] = 150\n",
    "rcParams[\"font.size\"] = 12\n",
    "\n",
    "from astropy.table import Table\n",
    "#ascii --> format for tables\n",
    "from astropy.io import ascii\n",
    "#astropy.io will make ascii pretty\n",
    "\n",
    "#import fermipy at a later time\n",
    "\n",
    "#What do the columns mean?  http://www.gama-survey.org/dr3/schema/table.php?id=109\n",
    "\n",
    "\n"
   ]
  },
  {
   "cell_type": "code",
   "execution_count": 2,
   "metadata": {},
   "outputs": [],
   "source": [
    "gamagal = Table.read('G3CGalv10.fits')"
   ]
  },
  {
   "cell_type": "code",
   "execution_count": 3,
   "metadata": {},
   "outputs": [
    {
     "data": {
      "text/html": [
       "<i>Table masked=True length=204110</i>\n",
       "<table id=\"table1814123269040\" class=\"table-striped table-bordered table-condensed\">\n",
       "<thead><tr><th>CATAID</th><th>RA</th><th>Dec</th><th>Z</th><th>Rpetro</th><th>DM_100_25_75</th><th>SURVEY_CODE</th><th>SigErr</th><th>GroupID</th><th>RankIterCen</th><th>SepIterCen</th><th>CoSepIterCen</th><th>AngSepIterCen</th><th>RankBCG</th><th>SepBCG</th><th>CoSepBCG</th><th>AngSepBCG</th><th>RankCen</th><th>SepCen</th><th>CoSepCen</th><th>AngSepCen</th></tr></thead>\n",
       "<thead><tr><th></th><th>deg</th><th>deg</th><th></th><th>mag</th><th>mag</th><th></th><th>km / s</th><th></th><th></th><th>arcsec</th><th>Mpc / h</th><th>Mpc / h</th><th></th><th>arcsec</th><th>Mpc / h</th><th>Mpc / h</th><th></th><th>arcsec</th><th>Mpc / h</th><th>Mpc / h</th></tr></thead>\n",
       "<thead><tr><th>int32</th><th>float64</th><th>float64</th><th>float32</th><th>float32</th><th>float32</th><th>int16</th><th>float32</th><th>int32</th><th>int16</th><th>float32</th><th>float32</th><th>float32</th><th>int16</th><th>float32</th><th>float32</th><th>float32</th><th>int16</th><th>float32</th><th>float32</th><th>float32</th></tr></thead>\n",
       "<tr><td>6802</td><td>174.00598431</td><td>0.72093463</td><td>0.051813804</td><td>18.622816</td><td>36.044518</td><td>5</td><td>24.158697</td><td>0</td><td>-999</td><td>-999.0</td><td>-999.0</td><td>-999.0</td><td>-999</td><td>-999.0</td><td>-999.0</td><td>-999.0</td><td>-999</td><td>-999.0</td><td>-999.0</td><td>-999.0</td></tr>\n",
       "<tr><td>6803</td><td>174.02164811</td><td>0.75488515</td><td>0.16169676</td><td>19.219088</td><td>38.683414</td><td>5</td><td>40.067787</td><td>0</td><td>-999</td><td>-999.0</td><td>-999.0</td><td>-999.0</td><td>-999</td><td>-999.0</td><td>-999.0</td><td>-999.0</td><td>-999</td><td>-999.0</td><td>-999.0</td><td>-999.0</td></tr>\n",
       "<tr><td>6804</td><td>174.0920547</td><td>0.67409614</td><td>0.2202978</td><td>19.3412</td><td>39.43489</td><td>5</td><td>24.125309</td><td>0</td><td>-999</td><td>-999.0</td><td>-999.0</td><td>-999.0</td><td>-999</td><td>-999.0</td><td>-999.0</td><td>-999.0</td><td>-999</td><td>-999.0</td><td>-999.0</td><td>-999.0</td></tr>\n",
       "<tr><td>6805</td><td>174.02235464</td><td>0.70253177</td><td>0.33400568</td><td>19.301096</td><td>40.477726</td><td>5</td><td>58.761257</td><td>203003</td><td>2</td><td>12.394894</td><td>0.056041796</td><td>0.0420283</td><td>2</td><td>12.394894</td><td>0.056041796</td><td>0.0420283</td><td>2</td><td>8.251231</td><td>0.037306797</td><td>0.027978072</td></tr>\n",
       "<tr><td>6806</td><td>174.02280711</td><td>0.70594494</td><td>0.33285415</td><td>18.544878</td><td>40.468914</td><td>5</td><td>24.662685</td><td>203003</td><td>1</td><td>0.0</td><td>0.0</td><td>0.0</td><td>1</td><td>0.0</td><td>0.0</td><td>0.0</td><td>1</td><td>4.1436634</td><td>0.018735</td><td>0.014050233</td></tr>\n",
       "<tr><td>6807</td><td>174.07693167</td><td>0.64402556</td><td>0.38845164</td><td>19.627243</td><td>40.86566</td><td>5</td><td>45.5613</td><td>0</td><td>-999</td><td>-999.0</td><td>-999.0</td><td>-999.0</td><td>-999</td><td>-999.0</td><td>-999.0</td><td>-999.0</td><td>-999</td><td>-999.0</td><td>-999.0</td><td>-999.0</td></tr>\n",
       "<tr><td>6808</td><td>174.10073087</td><td>0.65892157</td><td>0.2308506</td><td>18.81384</td><td>39.550262</td><td>5</td><td>50.39885</td><td>203004</td><td>1</td><td>0.0030735852</td><td>9.832097e-06</td><td>7.989578e-06</td><td>1</td><td>0.0030735852</td><td>9.832097e-06</td><td>7.989578e-06</td><td>1</td><td>2.4205942</td><td>0.0077432427</td><td>0.006292172</td></tr>\n",
       "<tr><td>6809</td><td>174.10033582</td><td>0.66080075</td><td>0.23038</td><td>19.480492</td><td>39.54522</td><td>5</td><td>54.94566</td><td>203004</td><td>2</td><td>6.9129024</td><td>0.022113694</td><td>0.017969625</td><td>2</td><td>6.9129024</td><td>0.022113694</td><td>0.017969625</td><td>2</td><td>4.4923105</td><td>0.014370459</td><td>0.011677459</td></tr>\n",
       "<tr><td>6810</td><td>174.10908985</td><td>0.80390945</td><td>0.3279076</td><td>19.116735</td><td>40.43074</td><td>5</td><td>30.745892</td><td>203005</td><td>1</td><td>0.0</td><td>0.0</td><td>0.0</td><td>1</td><td>0.0</td><td>0.0</td><td>0.0</td><td>1</td><td>18.661903</td><td>0.083231986</td><td>0.06264906</td></tr>\n",
       "<tr><td>...</td><td>...</td><td>...</td><td>...</td><td>...</td><td>...</td><td>...</td><td>...</td><td>...</td><td>...</td><td>...</td><td>...</td><td>...</td><td>...</td><td>...</td><td>...</td><td>...</td><td>...</td><td>...</td><td>...</td><td>...</td></tr>\n",
       "<tr><td>2566429</td><td>36.51225</td><td>-5.669671</td><td>0.19002925</td><td>19.248543</td><td>39.073414</td><td>5</td><td>53.308678</td><td>400016</td><td>10</td><td>132.06325</td><td>0.35652408</td><td>0.2988301</td><td>10</td><td>132.06325</td><td>0.35652408</td><td>0.2988301</td><td>10</td><td>108.63828</td><td>0.29328495</td><td>0.24582453</td></tr>\n",
       "<tr><td>2566443</td><td>36.556211</td><td>-5.721966</td><td>0.086921796</td><td>19.027166</td><td>37.224205</td><td>5</td><td>28.05463</td><td>0</td><td>-999</td><td>-999.0</td><td>-999.0</td><td>-999.0</td><td>-999</td><td>-999.0</td><td>-999.0</td><td>-999.0</td><td>-999</td><td>-999.0</td><td>-999.0</td><td>-999.0</td></tr>\n",
       "<tr><td>2566454</td><td>36.50615</td><td>-5.653884</td><td>0.19499521</td><td>19.117762</td><td>39.136192</td><td>5</td><td>45.074978</td><td>400016</td><td>7</td><td>78.989044</td><td>0.21324249</td><td>0.17873482</td><td>7</td><td>78.989044</td><td>0.21324249</td><td>0.17873482</td><td>3</td><td>47.806522</td><td>0.12906072</td><td>0.10817564</td></tr>\n",
       "<tr><td>2566457</td><td>36.524068</td><td>-5.627004</td><td>0.19039899</td><td>19.425003</td><td>39.07814</td><td>5</td><td>47.68396</td><td>400016</td><td>11</td><td>144.28345</td><td>0.38951433</td><td>0.3264817</td><td>11</td><td>144.28345</td><td>0.38951433</td><td>0.3264817</td><td>9</td><td>93.5734</td><td>0.25261512</td><td>0.21173602</td></tr>\n",
       "<tr><td>2566471</td><td>36.556764</td><td>-5.654681</td><td>0.3555094</td><td>19.42052</td><td>40.63739</td><td>5</td><td>35.506996</td><td>0</td><td>-999</td><td>-999.0</td><td>-999.0</td><td>-999.0</td><td>-999</td><td>-999.0</td><td>-999.0</td><td>-999.0</td><td>-999</td><td>-999.0</td><td>-999.0</td><td>-999.0</td></tr>\n",
       "<tr><td>2566785</td><td>36.72209</td><td>-5.175171</td><td>0.53582805</td><td>18.738974</td><td>41.70849</td><td>5</td><td>132.53627</td><td>0</td><td>-999</td><td>-999.0</td><td>-999.0</td><td>-999.0</td><td>-999</td><td>-999.0</td><td>-999.0</td><td>-999.0</td><td>-999</td><td>-999.0</td><td>-999.0</td><td>-999.0</td></tr>\n",
       "<tr><td>2566796</td><td>36.755126</td><td>-5.191941</td><td>0.43736652</td><td>19.578087</td><td>41.173897</td><td>5</td><td>43.717125</td><td>0</td><td>-999</td><td>-999.0</td><td>-999.0</td><td>-999.0</td><td>-999</td><td>-999.0</td><td>-999.0</td><td>-999.0</td><td>-999</td><td>-999.0</td><td>-999.0</td><td>-999.0</td></tr>\n",
       "<tr><td>2567785</td><td>36.528165</td><td>-5.783579</td><td>0.03145535</td><td>15.858828</td><td>34.92687</td><td>5</td><td>23.447887</td><td>402540</td><td>1</td><td>0.0</td><td>0.0</td><td>0.0</td><td>1</td><td>0.0</td><td>0.0</td><td>0.0</td><td>1</td><td>1.116968</td><td>0.00050697866</td><td>0.00049153686</td></tr>\n",
       "<tr><td>2567786</td><td>36.525146</td><td>-5.784139</td><td>0.03137538</td><td>18.22027</td><td>34.921204</td><td>5</td><td>25.462156</td><td>402540</td><td>2</td><td>10.999397</td><td>0.004992497</td><td>0.004840433</td><td>2</td><td>10.999397</td><td>0.004992497</td><td>0.004840433</td><td>2</td><td>9.882425</td><td>0.004485517</td><td>0.0043488946</td></tr>\n",
       "<tr><td>2567787</td><td>36.531641</td><td>-5.79333</td><td>0.29403818</td><td>18.604088</td><td>40.15431</td><td>5</td><td>49.439247</td><td>0</td><td>-999</td><td>-999.0</td><td>-999.0</td><td>-999.0</td><td>-999</td><td>-999.0</td><td>-999.0</td><td>-999.0</td><td>-999</td><td>-999.0</td><td>-999.0</td><td>-999.0</td></tr>\n",
       "</table>"
      ],
      "text/plain": [
       "<Table masked=True length=204110>\n",
       " CATAID      RA         Dec     ...   SepCen     CoSepCen     AngSepCen  \n",
       "            deg         deg     ...   arcsec     Mpc / h       Mpc / h   \n",
       " int32    float64     float64   ...  float32     float32       float32   \n",
       "------- ------------ ---------- ... --------- ------------- -------------\n",
       "   6802 174.00598431 0.72093463 ...    -999.0        -999.0        -999.0\n",
       "   6803 174.02164811 0.75488515 ...    -999.0        -999.0        -999.0\n",
       "   6804  174.0920547 0.67409614 ...    -999.0        -999.0        -999.0\n",
       "   6805 174.02235464 0.70253177 ...  8.251231   0.037306797   0.027978072\n",
       "   6806 174.02280711 0.70594494 ... 4.1436634      0.018735   0.014050233\n",
       "   6807 174.07693167 0.64402556 ...    -999.0        -999.0        -999.0\n",
       "   6808 174.10073087 0.65892157 ... 2.4205942  0.0077432427   0.006292172\n",
       "   6809 174.10033582 0.66080075 ... 4.4923105   0.014370459   0.011677459\n",
       "   6810 174.10908985 0.80390945 ... 18.661903   0.083231986    0.06264906\n",
       "    ...          ...        ... ...       ...           ...           ...\n",
       "2566429     36.51225  -5.669671 ... 108.63828    0.29328495    0.24582453\n",
       "2566443    36.556211  -5.721966 ...    -999.0        -999.0        -999.0\n",
       "2566454     36.50615  -5.653884 ... 47.806522    0.12906072    0.10817564\n",
       "2566457    36.524068  -5.627004 ...   93.5734    0.25261512    0.21173602\n",
       "2566471    36.556764  -5.654681 ...    -999.0        -999.0        -999.0\n",
       "2566785     36.72209  -5.175171 ...    -999.0        -999.0        -999.0\n",
       "2566796    36.755126  -5.191941 ...    -999.0        -999.0        -999.0\n",
       "2567785    36.528165  -5.783579 ...  1.116968 0.00050697866 0.00049153686\n",
       "2567786    36.525146  -5.784139 ...  9.882425   0.004485517  0.0043488946\n",
       "2567787    36.531641   -5.79333 ...    -999.0        -999.0        -999.0"
      ]
     },
     "execution_count": 3,
     "metadata": {},
     "output_type": "execute_result"
    }
   ],
   "source": [
    "gamagal"
   ]
  },
  {
   "cell_type": "code",
   "execution_count": null,
   "metadata": {},
   "outputs": [],
   "source": [
    "#Lets plot some stuff\n"
   ]
  },
  {
   "cell_type": "code",
   "execution_count": 4,
   "metadata": {},
   "outputs": [
    {
     "data": {
      "text/html": [
       "<i>Table masked=True length=10542</i>\n",
       "<table id=\"table1814226341792\" class=\"table-striped table-bordered table-condensed\">\n",
       "<thead><tr><th>GroupID</th><th>Nfof</th><th>IterCenCATAID</th><th>IterCenRA</th><th>IterCenDec</th><th>IterCenZ</th><th>Zfof</th><th>Rad50</th><th>Rad1Sig</th><th>Rad100</th><th>RelDen</th><th>Zcomp</th><th>GroupEdge</th><th>VelDisp</th><th>VelDispRaw</th><th>VelErr</th><th>TotRmag</th><th>TotFluxProxy</th><th>MassProxy</th><th>BCGCATAID</th><th>BCGRA</th><th>BCGDec</th><th>Rgap</th><th>CenRA</th><th>CenDec</th><th>RadKurt</th><th>AxAng</th><th>AxRat</th><th>SymKS</th><th>VelSkew</th><th>VelKurt</th><th>Modality</th><th>LinkTot</th><th>LinkStrenProj</th><th>LinkStrenRad</th><th>LinkStrenComb</th><th>MassA</th><th>MassAfunc</th><th>LumB</th><th>LumBfunc</th><th>d3vol</th><th>d3area</th><th>d2radec</th><th>d2raz</th><th>d2decz</th><th>distortcirc</th><th>distortellip</th><th>distortsph</th><th>URL_IMG</th></tr></thead>\n",
       "<thead><tr><th></th><th></th><th></th><th>deg</th><th>deg</th><th></th><th></th><th>Mpc / h</th><th>Mpc / h</th><th>Mpc / h</th><th></th><th></th><th></th><th>km / s</th><th>km / s</th><th>km / s</th><th>mag-5log(h)</th><th></th><th></th><th></th><th>deg</th><th>deg</th><th>mag</th><th>deg</th><th>deg</th><th></th><th>deg</th><th></th><th></th><th></th><th></th><th></th><th></th><th></th><th></th><th></th><th>Msun/h</th><th>Msun/h</th><th>Lsun/h^2</th><th>Lsun/h^2</th><th>(Mpc/h)^3</th><th>(Mpc/h)^2</th><th>(Mpc/h)^2</th><th>(Mpc/h)^2</th><th>(Mpc/h)^2</th><th></th><th></th><th></th><th></th></tr></thead>\n",
       "<thead><tr><th>int32</th><th>int16</th><th>int32</th><th>float64</th><th>float64</th><th>float32</th><th>float32</th><th>float32</th><th>float32</th><th>float32</th><th>float32</th><th>float32</th><th>float32</th><th>float32</th><th>float32</th><th>float32</th><th>float32</th><th>float32</th><th>float32</th><th>int32</th><th>float64</th><th>float64</th><th>float32</th><th>float64</th><th>float64</th><th>float32</th><th>float32</th><th>float32</th><th>float32</th><th>float32</th><th>float32</th><th>float32</th><th>int16</th><th>float32</th><th>float32</th><th>float32</th><th>float32</th><th>float32</th><th>float32</th><th>float32</th><th>float32</th><th>float32</th><th>float32</th><th>float32</th><th>float32</th><th>float32</th><th>float32</th><th>float32</th><th>bytes69</th></tr></thead>\n",
       "<tr><td>300001</td><td>148</td><td>250251</td><td>214.39804494</td><td>2.05322182</td><td>0.056312595</td><td>0.055022087</td><td>0.43631887</td><td>0.62474376</td><td>1.1316628</td><td>10.569494</td><td>0.9951386</td><td>1.0</td><td>593.028</td><td>594.07794</td><td>35.3032</td><td>-24.846533</td><td>659965100000.0</td><td>35675244000000.0</td><td>250251</td><td>214.39804494</td><td>2.05322182</td><td>1.4309833</td><td>214.394684216866</td><td>2.06811498348214</td><td>-0.9563333</td><td>57.875015</td><td>0.8331948</td><td>0.092615575</td><td>0.4747278</td><td>-0.26382598</td><td>0.39919364</td><td>940</td><td>0.4237649</td><td>0.54249644</td><td>0.23767592</td><td>356752430000000.0</td><td>356529730000000.0</td><td>686363700000.0</td><td>1029180560000.0</td><td>35.43611</td><td>108.715706</td><td>2.406971</td><td>36.742413</td><td>35.594887</td><td>1.0580021</td><td>1.1910522</td><td>2.0837429</td><td>http://www.gama-survey.org/data/files/GroupFinding/v10/png/300001.png</td></tr>\n",
       "<tr><td>300002</td><td>316</td><td>568002</td><td>213.78496641</td><td>-0.49323659</td><td>0.13990143</td><td>0.14015582</td><td>1.2760736</td><td>1.5841843</td><td>2.9304717</td><td>47.883335</td><td>0.992535</td><td>1.0</td><td>718.26984</td><td>719.31647</td><td>38.79043</td><td>-26.355112</td><td>3110763500000.0</td><td>153060600000000.0</td><td>568002</td><td>213.78496641</td><td>-0.49323659</td><td>0.39241284</td><td>213.6842581339</td><td>-0.392408142757655</td><td>-1.1548072</td><td>117.63947</td><td>0.6084705</td><td>9.476206e-07</td><td>0.76145846</td><td>0.49924874</td><td>0.48621047</td><td>2330</td><td>0.39737457</td><td>0.55411386</td><td>0.22131394</td><td>1530606100000000.0</td><td>1084701440000000.0</td><td>3235194000000.0</td><td>3133711300000.0</td><td>99.053665</td><td>198.34703</td><td>5.9342904</td><td>63.402206</td><td>62.033264</td><td>1.0653975</td><td>1.1602248</td><td>1.9158487</td><td>http://www.gama-survey.org/data/files/GroupFinding/v10/png/300002.png</td></tr>\n",
       "<tr><td>300003</td><td>90</td><td>64581</td><td>219.43265636</td><td>-0.31603849</td><td>0.13880743</td><td>0.13885781</td><td>0.538908</td><td>0.66784406</td><td>1.099516</td><td>15.769166</td><td>1.0</td><td>1.0</td><td>685.39056</td><td>686.7128</td><td>42.5935</td><td>-24.945448</td><td>846832660000.0</td><td>58857710000000.0</td><td>64581</td><td>219.43265636</td><td>-0.31603849</td><td>0.38157517</td><td>219.41950856928</td><td>-0.305589096526311</td><td>-1.3436213</td><td>17.638464</td><td>0.79118264</td><td>0.03660564</td><td>-0.26203656</td><td>-0.55419046</td><td>0.32313943</td><td>478</td><td>0.36673158</td><td>0.52402717</td><td>0.19582464</td><td>588577150000000.0</td><td>469966800000000.0</td><td>880706000000.0</td><td>841541100000.0</td><td>22.89139</td><td>83.62961</td><td>1.6982833</td><td>24.698238</td><td>26.691051</td><td>1.06252</td><td>1.0995438</td><td>2.1450026</td><td>http://www.gama-survey.org/data/files/GroupFinding/v10/png/300003.png</td></tr>\n",
       "<tr><td>300004</td><td>48</td><td>460770</td><td>213.8082817</td><td>-1.61770519</td><td>0.1505733</td><td>0.15015218</td><td>0.48276615</td><td>0.6411973</td><td>1.016419</td><td>9.330249</td><td>1.0</td><td>1.0</td><td>652.92334</td><td>654.2885</td><td>42.24473</td><td>-24.16156</td><td>421592140000.0</td><td>47849086000000.0</td><td>460770</td><td>213.8082817</td><td>-1.61770519</td><td>1.5112951</td><td>213.827333613889</td><td>-1.63285933311998</td><td>-1.0369736</td><td>38.731483</td><td>0.68497187</td><td>0.1197568</td><td>-0.04507821</td><td>-0.44578257</td><td>0.3132601</td><td>172</td><td>0.47573406</td><td>0.60561484</td><td>0.28410336</td><td>478490860000000.0</td><td>407815940000000.0</td><td>438455830000.0</td><td>397638500000.0</td><td>11.802188</td><td>58.58824</td><td>1.1260498</td><td>18.765947</td><td>18.442274</td><td>1.0927075</td><td>1.2582662</td><td>2.3371396</td><td>http://www.gama-survey.org/data/files/GroupFinding/v10/png/300004.png</td></tr>\n",
       "<tr><td>300005</td><td>39</td><td>228013</td><td>215.69688854</td><td>1.22989663</td><td>0.11817445</td><td>0.11844286</td><td>0.43896487</td><td>0.54021835</td><td>0.8554374</td><td>5.7047343</td><td>0.995483</td><td>1.0</td><td>356.9406</td><td>358.95</td><td>37.927876</td><td>-24.014267</td><td>345392600000.0</td><td>13002719000000.0</td><td>228013</td><td>215.69688854</td><td>1.22989663</td><td>1.1914338</td><td>215.686542203894</td><td>1.24575382141642</td><td>-1.0938318</td><td>51.286716</td><td>0.9685813</td><td>0.38652492</td><td>0.84921324</td><td>0.90080774</td><td>0.45157644</td><td>202</td><td>0.4169647</td><td>0.6450697</td><td>0.28440505</td><td>130027190000000.0</td><td>120977636000000.0</td><td>359208320000.0</td><td>363363800000.0</td><td>4.75047</td><td>29.195269</td><td>0.776283</td><td>8.646019</td><td>8.299245</td><td>1.1115695</td><td>1.181856</td><td>2.136341</td><td>http://www.gama-survey.org/data/files/GroupFinding/v10/png/300005.png</td></tr>\n",
       "<tr><td>300006</td><td>43</td><td>239656</td><td>218.53762784</td><td>1.61693878</td><td>0.13873798</td><td>0.13774778</td><td>0.5263153</td><td>0.6379816</td><td>1.0878655</td><td>7.4562488</td><td>0.99643886</td><td>1.0</td><td>510.83585</td><td>512.02045</td><td>34.809177</td><td>-24.403091</td><td>512648350000.0</td><td>31931640000000.0</td><td>239656</td><td>218.53762784</td><td>1.61693878</td><td>0.55149335</td><td>218.575667733123</td><td>1.60737786417378</td><td>-1.225014</td><td>72.044205</td><td>0.71916217</td><td>0.67419684</td><td>0.09535274</td><td>-0.4928128</td><td>0.31117308</td><td>194</td><td>0.3739674</td><td>0.5705586</td><td>0.23093107</td><td>319316400000000.0</td><td>282382930000000.0</td><td>533154270000.0</td><td>502547000000.0</td><td>9.561316</td><td>48.884693</td><td>0.9349918</td><td>18.210564</td><td>12.351342</td><td>1.0804222</td><td>1.1409558</td><td>2.2439353</td><td>http://www.gama-survey.org/data/files/GroupFinding/v10/png/300006.png</td></tr>\n",
       "<tr><td>300007</td><td>31</td><td>15899</td><td>217.18964755</td><td>0.70812363</td><td>0.10351797</td><td>0.10297762</td><td>0.34543985</td><td>0.47244808</td><td>0.73224473</td><td>3.9430187</td><td>0.99765515</td><td>1.0</td><td>509.33582</td><td>511.19583</td><td>43.56829</td><td>-23.44027</td><td>198006730000.0</td><td>20834993000000.0</td><td>15899</td><td>217.18964755</td><td>0.70812363</td><td>2.4981833</td><td>217.186933508629</td><td>0.709875353464617</td><td>-0.9883459</td><td>50.31648</td><td>0.90984476</td><td>0.92976123</td><td>-0.49430886</td><td>-0.049675595</td><td>0.4144395</td><td>112</td><td>0.46477062</td><td>0.60442704</td><td>0.2911078</td><td>208349940000000.0</td><td>207837680000000.0</td><td>205927000000.0</td><td>221602100000.0</td><td>5.372994</td><td>35.943916</td><td>0.68267626</td><td>9.850085</td><td>12.330122</td><td>1.1189432</td><td>1.2748483</td><td>2.4228714</td><td>http://www.gama-survey.org/data/files/GroupFinding/v10/png/300007.png</td></tr>\n",
       "<tr><td>300008</td><td>35</td><td>238664</td><td>215.04496007</td><td>1.61751024</td><td>0.19310647</td><td>0.19230632</td><td>0.3234794</td><td>0.55544764</td><td>1.2958386</td><td>9.935176</td><td>1.0</td><td>1.0</td><td>505.66248</td><td>507.0678</td><td>37.725502</td><td>-24.305414</td><td>543579570000.0</td><td>19230058000000.0</td><td>238664</td><td>215.04496007</td><td>1.61751024</td><td>0.90720147</td><td>215.028393338392</td><td>1.60648999204313</td><td>0.16456886</td><td>116.0616</td><td>0.4751601</td><td>0.012310072</td><td>-0.10762246</td><td>-0.3178018</td><td>0.32621196</td><td>216</td><td>0.4094665</td><td>0.5852377</td><td>0.23527962</td><td>192300580000000.0</td><td>163525430000000.0</td><td>565322800000.0</td><td>450189400000.0</td><td>5.860003</td><td>36.1114</td><td>0.71367323</td><td>13.976723</td><td>10.447818</td><td>1.2102112</td><td>1.3104823</td><td>2.2973561</td><td>http://www.gama-survey.org/data/files/GroupFinding/v10/png/300008.png</td></tr>\n",
       "<tr><td>300009</td><td>32</td><td>592727</td><td>213.88368862</td><td>-0.04941336</td><td>0.18643801</td><td>0.18562162</td><td>0.5055776</td><td>0.5909631</td><td>0.81742877</td><td>8.543516</td><td>1.0</td><td>1.0</td><td>706.09314</td><td>708.2558</td><td>55.306213</td><td>-24.147984</td><td>459562120000.0</td><td>58603596000000.0</td><td>592727</td><td>213.88368862</td><td>-0.04941336</td><td>1.3247963</td><td>213.902469847387</td><td>-0.0496068229106905</td><td>-1.2485173</td><td>75.33459</td><td>0.7664474</td><td>0.24934202</td><td>-0.0036538376</td><td>-1.0682061</td><td>0.24148704</td><td>140</td><td>0.43491963</td><td>0.5242382</td><td>0.2232901</td><td>586035940000000.0</td><td>510120480000000.0</td><td>477944600000.0</td><td>385899130000.0</td><td>7.378994</td><td>43.244884</td><td>0.76061666</td><td>16.181551</td><td>11.47382</td><td>1.0892969</td><td>1.2114727</td><td>2.3593144</td><td>http://www.gama-survey.org/data/files/GroupFinding/v10/png/300009.png</td></tr>\n",
       "<tr><td>...</td><td>...</td><td>...</td><td>...</td><td>...</td><td>...</td><td>...</td><td>...</td><td>...</td><td>...</td><td>...</td><td>...</td><td>...</td><td>...</td><td>...</td><td>...</td><td>...</td><td>...</td><td>...</td><td>...</td><td>...</td><td>...</td><td>...</td><td>...</td><td>...</td><td>...</td><td>...</td><td>...</td><td>...</td><td>...</td><td>...</td><td>...</td><td>...</td><td>...</td><td>...</td><td>...</td><td>...</td><td>...</td><td>...</td><td>...</td><td>...</td><td>...</td><td>...</td><td>...</td><td>...</td><td>...</td><td>...</td><td>...</td><td>...</td></tr>\n",
       "<tr><td>402531</td><td>2</td><td>2524415</td><td>30.855592</td><td>-4.080974</td><td>0.12453724</td><td>0.12491185</td><td>0.008899276</td><td>0.012103016</td><td>0.017798552</td><td>0.31723598</td><td>0.99384564</td><td>1.0</td><td>247.17004</td><td>250.25186</td><td>39.153046</td><td>-20.057806</td><td>9133918000.0</td><td>126403420000.0</td><td>2524415</td><td>30.855592</td><td>-4.080974</td><td>0.9140545</td><td>30.854806927401</td><td>-4.08066894609432</td><td>-999.0</td><td>-999.0</td><td>-999.0</td><td>-999.0</td><td>-999.0</td><td>-999.0</td><td>-999.0</td><td>2</td><td>0.90647703</td><td>0.5266018</td><td>0.47735247</td><td>1264034300000.0</td><td>2397562000000.0</td><td>9499275000.0</td><td>7532068000.0</td><td>-999.0</td><td>-999.0</td><td>-999.0</td><td>-999.0</td><td>-999.0</td><td>-999.0</td><td>-999.0</td><td>-999.0</td><td>http://www.gama-survey.org/data/files/GroupFinding/v10/png/402531.png</td></tr>\n",
       "<tr><td>402532</td><td>2</td><td>2531402</td><td>34.842584</td><td>-4.503953</td><td>0.19838573</td><td>0.1982358</td><td>0.02151228</td><td>0.0292567</td><td>0.04302456</td><td>0.6119623</td><td>0.9931507</td><td>1.0</td><td>85.71816</td><td>94.02793</td><td>38.64775</td><td>-21.419647</td><td>38898200000.0</td><td>36748923000.0</td><td>2531402</td><td>34.842584</td><td>-4.503953</td><td>1.4708661</td><td>34.8421389308529</td><td>-4.50318695145447</td><td>-999.0</td><td>-999.0</td><td>-999.0</td><td>-999.0</td><td>-999.0</td><td>-999.0</td><td>-999.0</td><td>2</td><td>0.86916393</td><td>0.88114774</td><td>0.76586187</td><td>367489220000.0</td><td>664134800000.0</td><td>40454128000.0</td><td>24071162000.0</td><td>-999.0</td><td>-999.0</td><td>-999.0</td><td>-999.0</td><td>-999.0</td><td>-999.0</td><td>-999.0</td><td>-999.0</td><td>http://www.gama-survey.org/data/files/GroupFinding/v10/png/402532.png</td></tr>\n",
       "<tr><td>402533</td><td>2</td><td>2542088</td><td>35.643585</td><td>-4.091922</td><td>0.141465</td><td>0.14121011</td><td>0.040485244</td><td>0.055059932</td><td>0.08097049</td><td>0.36847603</td><td>0.98441464</td><td>1.0</td><td>166.11684</td><td>167.84091</td><td>23.99512</td><td>-20.838501</td><td>19372898000.0</td><td>259738650000.0</td><td>2542088</td><td>35.643585</td><td>-4.091922</td><td>1.0241649</td><td>35.6408322269186</td><td>-4.09036249812174</td><td>-999.0</td><td>-999.0</td><td>-999.0</td><td>-999.0</td><td>-999.0</td><td>-999.0</td><td>-999.0</td><td>2</td><td>0.6529901</td><td>0.7235926</td><td>0.4724988</td><td>2597386500000.0</td><td>4859526000000.0</td><td>20147812000.0</td><td>14825364000.0</td><td>-999.0</td><td>-999.0</td><td>-999.0</td><td>-999.0</td><td>-999.0</td><td>-999.0</td><td>-999.0</td><td>-999.0</td><td>http://www.gama-survey.org/data/files/GroupFinding/v10/png/402533.png</td></tr>\n",
       "<tr><td>402534</td><td>2</td><td>2542475</td><td>35.685388</td><td>-4.042326</td><td>0.10196748</td><td>0.102237225</td><td>0.013711102</td><td>0.018647099</td><td>0.027422205</td><td>0.25499076</td><td>0.9906541</td><td>1.0</td><td>182.18896</td><td>183.90306</td><td>25.050291</td><td>-20.665663</td><td>15354671000.0</td><td>105810560000.0</td><td>2542475</td><td>35.685388</td><td>-4.042326</td><td>0.09659124</td><td>35.6828968887905</td><td>-4.04258495750878</td><td>-999.0</td><td>-999.0</td><td>-999.0</td><td>-999.0</td><td>-999.0</td><td>-999.0</td><td>-999.0</td><td>2</td><td>0.86710984</td><td>0.6665903</td><td>0.578007</td><td>1058105500000.0</td><td>2055363500000.0</td><td>15968858000.0</td><td>14276249000.0</td><td>-999.0</td><td>-999.0</td><td>-999.0</td><td>-999.0</td><td>-999.0</td><td>-999.0</td><td>-999.0</td><td>-999.0</td><td>http://www.gama-survey.org/data/files/GroupFinding/v10/png/402534.png</td></tr>\n",
       "<tr><td>402535</td><td>2</td><td>2552000</td><td>37.493237</td><td>-4.725436</td><td>0.19075298</td><td>0.19143236</td><td>0.100873955</td><td>0.13718858</td><td>0.20174791</td><td>0.5752595</td><td>1.0</td><td>1.0</td><td>426.66156</td><td>428.49997</td><td>39.65044</td><td>-21.012835</td><td>26116334000.0</td><td>4269318300000.0</td><td>2552000</td><td>37.493237</td><td>-4.725436</td><td>0.23886697</td><td>37.4859176657223</td><td>-4.73123369787488</td><td>-999.0</td><td>-999.0</td><td>-999.0</td><td>-999.0</td><td>-999.0</td><td>-999.0</td><td>-999.0</td><td>2</td><td>0.230354</td><td>0.39704117</td><td>0.09146002</td><td>42693183000000.0</td><td>77415280000000.0</td><td>27160988000.0</td><td>16525896000.0</td><td>-999.0</td><td>-999.0</td><td>-999.0</td><td>-999.0</td><td>-999.0</td><td>-999.0</td><td>-999.0</td><td>-999.0</td><td>http://www.gama-survey.org/data/files/GroupFinding/v10/png/402535.png</td></tr>\n",
       "<tr><td>402536</td><td>2</td><td>2553485</td><td>38.413094</td><td>-3.800079</td><td>0.32451427</td><td>0.32335514</td><td>0.119764075</td><td>0.16287914</td><td>0.23952815</td><td>2.1779952</td><td>1.0</td><td>1.0</td><td>656.9028</td><td>658.2157</td><td>41.553116</td><td>-21.939102</td><td>116190300000.0</td><td>12015483000000.0</td><td>2553485</td><td>38.413094</td><td>-3.800079</td><td>0.58761054</td><td>38.4124928477249</td><td>-3.8056167262026</td><td>-999.0</td><td>-999.0</td><td>-999.0</td><td>-999.0</td><td>-999.0</td><td>-999.0</td><td>-999.0</td><td>2</td><td>0.5523136</td><td>0.48082754</td><td>0.2655676</td><td>120154840000000.0</td><td>208159110000000.0</td><td>120837915000.0</td><td>51924083000.0</td><td>-999.0</td><td>-999.0</td><td>-999.0</td><td>-999.0</td><td>-999.0</td><td>-999.0</td><td>-999.0</td><td>-999.0</td><td>http://www.gama-survey.org/data/files/GroupFinding/v10/png/402536.png</td></tr>\n",
       "<tr><td>402537</td><td>2</td><td>2553514</td><td>38.444132</td><td>-3.775456</td><td>0.32274616</td><td>0.32260618</td><td>0.040510453</td><td>0.05509422</td><td>0.08102091</td><td>2.153774</td><td>1.0</td><td>1.0</td><td>58.352715</td><td>79.527084</td><td>54.03256</td><td>-21.444965</td><td>73318105000.0</td><td>32070203000.0</td><td>2553514</td><td>38.444132</td><td>-3.775456</td><td>0.016668232</td><td>38.4417072536982</td><td>-3.77466214410561</td><td>-999.0</td><td>-999.0</td><td>-999.0</td><td>-999.0</td><td>-999.0</td><td>-999.0</td><td>-999.0</td><td>2</td><td>0.810553</td><td>0.92080754</td><td>0.74636334</td><td>320702020000.0</td><td>555692260000.0</td><td>76250830000.0</td><td>32817764000.0</td><td>-999.0</td><td>-999.0</td><td>-999.0</td><td>-999.0</td><td>-999.0</td><td>-999.0</td><td>-999.0</td><td>-999.0</td><td>http://www.gama-survey.org/data/files/GroupFinding/v10/png/402537.png</td></tr>\n",
       "<tr><td>402538</td><td>2</td><td>2558880</td><td>38.404854</td><td>-3.741646</td><td>0.27416244</td><td>0.2744473</td><td>0.08291959</td><td>0.11277064</td><td>0.16583918</td><td>1.2402761</td><td>1.0</td><td>1.0</td><td>165.94377</td><td>167.95966</td><td>25.94436</td><td>-20.96919</td><td>35319050000.0</td><td>530874140000.0</td><td>2558880</td><td>38.404854</td><td>-3.741646</td><td>0.031422593</td><td>38.4101527219497</td><td>-3.73876777495912</td><td>-999.0</td><td>-999.0</td><td>-999.0</td><td>-999.0</td><td>-999.0</td><td>-999.0</td><td>-999.0</td><td>2</td><td>0.48592758</td><td>0.7979802</td><td>0.38776055</td><td>5308741000000.0</td><td>9319412000000.0</td><td>36731814000.0</td><td>17655857000.0</td><td>-999.0</td><td>-999.0</td><td>-999.0</td><td>-999.0</td><td>-999.0</td><td>-999.0</td><td>-999.0</td><td>-999.0</td><td>http://www.gama-survey.org/data/files/GroupFinding/v10/png/402538.png</td></tr>\n",
       "<tr><td>402539</td><td>2</td><td>2562629</td><td>37.469491</td><td>-5.626938</td><td>0.17566845</td><td>0.1753089</td><td>0.0606573</td><td>0.08249393</td><td>0.1213146</td><td>0.49763018</td><td>1.0</td><td>1.0</td><td>228.03911</td><td>229.88565</td><td>29.07887</td><td>-20.982563</td><td>24102193000.0</td><td>733354900000.0</td><td>2562629</td><td>37.469491</td><td>-5.626938</td><td>1.4008217</td><td>37.4722502168005</td><td>-5.62803179019333</td><td>-999.0</td><td>-999.0</td><td>-999.0</td><td>-999.0</td><td>-999.0</td><td>-999.0</td><td>-999.0</td><td>2</td><td>0.5173042</td><td>0.6628187</td><td>0.34287888</td><td>7333549000000.0</td><td>13413559000000.0</td><td>25066280000.0</td><td>16125315000.0</td><td>-999.0</td><td>-999.0</td><td>-999.0</td><td>-999.0</td><td>-999.0</td><td>-999.0</td><td>-999.0</td><td>-999.0</td><td>http://www.gama-survey.org/data/files/GroupFinding/v10/png/402539.png</td></tr>\n",
       "<tr><td>402540</td><td>2</td><td>2567785</td><td>36.528165</td><td>-5.783579</td><td>0.03145535</td><td>0.031415366</td><td>0.0024962486</td><td>0.0033948983</td><td>0.004992497</td><td>0.08051445</td><td>0.8120077</td><td>1.0</td><td>15.799558</td><td>29.132257</td><td>24.475752</td><td>-19.16499</td><td>3444178200.0</td><td>144873920.0</td><td>2567785</td><td>36.528165</td><td>-5.783579</td><td>2.3670526</td><td>36.5278584252814</td><td>-5.78363586790051</td><td>-999.0</td><td>-999.0</td><td>-999.0</td><td>-999.0</td><td>-999.0</td><td>-999.0</td><td>-999.0</td><td>2</td><td>0.9562919</td><td>0.90345556</td><td>0.86396724</td><td>1448739200.0</td><td>3373180700.0</td><td>3581945000.0</td><td>6257136000.0</td><td>-999.0</td><td>-999.0</td><td>-999.0</td><td>-999.0</td><td>-999.0</td><td>-999.0</td><td>-999.0</td><td>-999.0</td><td>http://www.gama-survey.org/data/files/GroupFinding/v10/png/402540.png</td></tr>\n",
       "</table>"
      ],
      "text/plain": [
       "<Table masked=True length=10542>\n",
       "GroupID ...\n",
       "        ...\n",
       " int32  ...\n",
       "------- ...\n",
       " 300001 ...\n",
       " 300002 ...\n",
       " 300003 ...\n",
       " 300004 ...\n",
       " 300005 ...\n",
       " 300006 ...\n",
       " 300007 ...\n",
       " 300008 ...\n",
       " 300009 ...\n",
       "    ... ...\n",
       " 402531 ...\n",
       " 402532 ...\n",
       " 402533 ...\n",
       " 402534 ...\n",
       " 402535 ...\n",
       " 402536 ...\n",
       " 402537 ...\n",
       " 402538 ...\n",
       " 402539 ...\n",
       " 402540 ..."
      ]
     },
     "execution_count": 4,
     "metadata": {},
     "output_type": "execute_result"
    }
   ],
   "source": [
    "gamagroup = Table.read('G3CFoFGroup.fits') # this is just G02 and G15, need to get the full catalog from GAMA team.\n",
    "\n",
    "gamagroup"
   ]
  },
  {
   "cell_type": "code",
   "execution_count": 5,
   "metadata": {},
   "outputs": [],
   "source": [
    "fermi_130 = Table.read('Fermi/lat_spacecraft_merged_p130.fits') "
   ]
  },
  {
   "cell_type": "code",
   "execution_count": 6,
   "metadata": {},
   "outputs": [
    {
     "data": {
      "text/html": [
       "<i>Table length=4654729</i>\n",
       "<table id=\"table1814226279728\" class=\"table-striped table-bordered table-condensed\">\n",
       "<thead><tr><th>START</th><th>STOP</th><th>SC_POSITION [3]</th><th>LAT_GEO</th><th>LON_GEO</th><th>RAD_GEO</th><th>RA_ZENITH</th><th>DEC_ZENITH</th><th>B_MCILWAIN</th><th>L_MCILWAIN</th><th>GEOMAG_LAT</th><th>IN_SAA</th><th>RA_SCZ</th><th>DEC_SCZ</th><th>RA_SCX</th><th>DEC_SCX</th><th>RA_NPOLE</th><th>DEC_NPOLE</th><th>ROCK_ANGLE</th><th>LAT_MODE</th><th>LAT_CONFIG</th><th>DATA_QUAL</th><th>LIVETIME</th><th>QSJ_1</th><th>QSJ_2</th><th>QSJ_3</th><th>QSJ_4</th><th>RA_SUN</th><th>DEC_SUN</th></tr></thead>\n",
       "<thead><tr><th>s</th><th>s</th><th>m</th><th>deg</th><th>deg</th><th>m</th><th>deg</th><th>deg</th><th>Gauss</th><th>Earth_Radii</th><th>deg</th><th></th><th>deg</th><th>deg</th><th>deg</th><th>deg</th><th>deg</th><th>deg</th><th>deg</th><th></th><th></th><th></th><th>s</th><th></th><th></th><th></th><th></th><th>deg</th><th>deg</th></tr></thead>\n",
       "<thead><tr><th>float64</th><th>float64</th><th>float32</th><th>float32</th><th>float32</th><th>float64</th><th>float32</th><th>float32</th><th>float32</th><th>float32</th><th>float32</th><th>bool</th><th>float32</th><th>float32</th><th>float32</th><th>float32</th><th>float32</th><th>float32</th><th>float32</th><th>int32</th><th>uint8</th><th>int16</th><th>float64</th><th>float64</th><th>float64</th><th>float64</th><th>float64</th><th>float32</th><th>float32</th></tr></thead>\n",
       "<tr><td>239557417.49417615</td><td>239557446.6</td><td>-792136.75 .. 2176276.8</td><td>18.464882</td><td>-92.55068</td><td>542730.7500666156</td><td>96.930664</td><td>18.341269</td><td>3.142053</td><td>1.4308046</td><td>33.279175</td><td>False</td><td>113.32885</td><td>50.823658</td><td>155.56972</td><td>-31.10198</td><td>230.83633</td><td>64.44968</td><td>34.99862</td><td>5</td><td>1</td><td>1</td><td>25.041281468390334</td><td>-0.2114074266451589</td><td>0.26020031289638323</td><td>0.9066908880413129</td><td>0.2559576735922389</td><td>134.96822</td><td>17.05195</td></tr>\n",
       "<tr><td>239557446.6</td><td>239557476.6</td><td>-1003102.2 .. 2109975.0</td><td>17.882662</td><td>-90.84282</td><td>542637.8661531355</td><td>98.76013</td><td>17.762945</td><td>3.0682142</td><td>1.4243636</td><td>33.081505</td><td>False</td><td>115.410835</td><td>50.116287</td><td>155.23383</td><td>-32.69231</td><td>230.8302</td><td>64.44712</td><td>34.99935</td><td>5</td><td>1</td><td>1</td><td>25.89448198111605</td><td>-0.22554594330038472</td><td>0.2558423228406907</td><td>0.9036780379144251</td><td>0.2589203296293171</td><td>134.96854</td><td>17.05186</td></tr>\n",
       "<tr><td>239557476.6</td><td>239557506.6</td><td>-1219474.0 .. 2039376.0</td><td>17.264791</td><td>-89.09514</td><td>542558.7716882192</td><td>100.633156</td><td>17.149212</td><td>2.9884243</td><td>1.4176495</td><td>32.87289</td><td>False</td><td>117.5142</td><td>49.37336</td><td>154.70932</td><td>-34.34853</td><td>230.83012</td><td>64.44706</td><td>34.999336</td><td>5</td><td>1</td><td>1</td><td>25.90786564998838</td><td>-0.24022064574200008</td><td>0.25061867663574516</td><td>0.9002408559178744</td><td>0.2627750399427187</td><td>134.96887</td><td>17.051767</td></tr>\n",
       "<tr><td>239557506.6</td><td>239557536.6</td><td>-1434522.8 .. 1966558.2</td><td>16.62967</td><td>-87.3601</td><td>542496.4489130718</td><td>102.49354</td><td>16.518341</td><td>2.9041939</td><td>1.4098974</td><td>32.628685</td><td>False</td><td>119.57513</td><td>48.61878</td><td>153.97441</td><td>-36.015694</td><td>230.82848</td><td>64.44629</td><td>34.9992</td><td>5</td><td>1</td><td>1</td><td>25.952616229895334</td><td>-0.25497813032133687</td><td>0.24458590149756415</td><td>0.8964351660619441</td><td>0.26752174284336955</td><td>134.96921</td><td>17.051674</td></tr>\n",
       "<tr><td>239557536.6</td><td>239557566.6</td><td>-1648014.6 .. 1891600.1</td><td>15.978081</td><td>-85.637474</td><td>542450.000835856</td><td>104.34151</td><td>15.871115</td><td>2.8144522</td><td>1.4017516</td><td>32.36811</td><td>False</td><td>121.59463</td><td>47.855595</td><td>152.99657</td><td>-37.683533</td><td>230.82768</td><td>64.44593</td><td>35.0002</td><td>5</td><td>1</td><td>1</td><td>26.067915740435737</td><td>-0.2697854181204783</td><td>0.23767167379938986</td><td>0.8922288696337111</td><td>0.27323185728444166</td><td>134.96954</td><td>17.05158</td></tr>\n",
       "<tr><td>239557566.6</td><td>239557596.6</td><td>-1859718.9 .. 1814585.1</td><td>15.3108225</td><td>-83.92696</td><td>542423.5896018158</td><td>106.17736</td><td>15.2083235</td><td>2.7210672</td><td>1.3934014</td><td>32.096645</td><td>False</td><td>123.57896</td><td>47.08622</td><td>151.73535</td><td>-39.341022</td><td>230.824</td><td>64.44396</td><td>35.00484</td><td>5</td><td>1</td><td>1</td><td>26.22571401180887</td><td>-0.2846314750837173</td><td>0.22977236499234557</td><td>0.8875766993965353</td><td>0.2799949756082135</td><td>134.96988</td><td>17.051487</td></tr>\n",
       "<tr><td>239557596.6</td><td>239557626.6</td><td>-2069406.4 .. 1735595.4</td><td>14.628677</td><td>-82.22823</td><td>542415.0562292889</td><td>108.001434</td><td>14.530745</td><td>2.612541</td><td>1.3846557</td><td>31.807446</td><td>False</td><td>125.52571</td><td>46.30311</td><td>150.15152</td><td>-40.977947</td><td>230.82141</td><td>64.44243</td><td>35.004204</td><td>5</td><td>1</td><td>1</td><td>26.27027988574447</td><td>-0.29952403513247705</td><td>0.22086882552334866</td><td>0.8823962157733325</td><td>0.2878875347749499</td><td>134.97021</td><td>17.051394</td></tr>\n",
       "<tr><td>239557626.6</td><td>239557656.6</td><td>-2276849.8 .. 1654718.5</td><td>13.93244</td><td>-80.540924</td><td>542429.346787826</td><td>109.81409</td><td>13.839169</td><td>2.5259578</td><td>1.3750476</td><td>31.48377</td><td>False</td><td>127.43802</td><td>45.51191</td><td>148.1979</td><td>-42.56787</td><td>230.82149</td><td>64.442474</td><td>35.002693</td><td>5</td><td>1</td><td>1</td><td>26.41035615223785</td><td>-0.3143981404776056</td><td>0.21084533705177533</td><td>0.8766413953276749</td><td>0.29698134134267473</td><td>134.97054</td><td>17.0513</td></tr>\n",
       "<tr><td>239557656.6</td><td>239557686.6</td><td>-2481822.5 .. 1572041.2</td><td>13.222896</td><td>-78.86463</td><td>542462.157393657</td><td>111.61572</td><td>13.134375</td><td>2.4258552</td><td>1.3653414</td><td>31.150225</td><td>False</td><td>129.31947</td><td>44.715958</td><td>145.82585</td><td>-44.078552</td><td>230.82018</td><td>64.44164</td><td>35.002937</td><td>5</td><td>1</td><td>1</td><td>26.57682537406049</td><td>-0.3291907172066238</td><td>0.19959244369812743</td><td>0.8702504234887072</td><td>0.307344315941135</td><td>134.97087</td><td>17.051207</td></tr>\n",
       "<tr><td>...</td><td>...</td><td>...</td><td>...</td><td>...</td><td>...</td><td>...</td><td>...</td><td>...</td><td>...</td><td>...</td><td>...</td><td>...</td><td>...</td><td>...</td><td>...</td><td>...</td><td>...</td><td>...</td><td>...</td><td>...</td><td>...</td><td>...</td><td>...</td><td>...</td><td>...</td><td>...</td><td>...</td><td>...</td></tr>\n",
       "<tr><td>405303399.6</td><td>405303429.6</td><td>-3322972.0 .. 1686449.8</td><td>14.2238655</td><td>71.17121</td><td>533599.9094072656</td><td>119.734146</td><td>14.128643</td><td>1.0993701</td><td>1.0189642</td><td>7.8409114</td><td>False</td><td>101.4362</td><td>-30.78428</td><td>207.29686</td><td>-24.643238</td><td>241.49664</td><td>64.44376</td><td>-48.236633</td><td>5</td><td>1</td><td>1</td><td>27.99328906014632</td><td>-0.30072281706946224</td><td>0.8157630646597916</td><td>0.4882456427318686</td><td>0.07558175695242904</td><td>220.10776</td><td>-15.6040325</td></tr>\n",
       "<tr><td>405303429.6</td><td>405303459.6</td><td>-3515598.2 .. 1604393.6</td><td>13.518397</td><td>72.85568</td><td>533355.0499091673</td><td>121.54396</td><td>13.427897</td><td>1.078351</td><td>1.0127999</td><td>6.4547954</td><td>False</td><td>105.07968</td><td>-26.754635</td><td>207.48201</td><td>-23.074972</td><td>241.49524</td><td>64.442825</td><td>-43.249245</td><td>5</td><td>1</td><td>1</td><td>28.062665611130004</td><td>-0.299008847590358</td><td>0.7972948284167783</td><td>0.5219285783163158</td><td>0.05005222052272778</td><td>220.10811</td><td>-15.604138</td></tr>\n",
       "<tr><td>405303459.6</td><td>405303489.6</td><td>-3704395.5 .. 1520585.4</td><td>12.799979</td><td>74.5295</td><td>533129.3071526901</td><td>123.343124</td><td>12.714289</td><td>1.0566181</td><td>1.0071585</td><td>4.836165</td><td>False</td><td>109.657875</td><td>-20.869097</td><td>208.14842</td><td>-21.17008</td><td>241.4929</td><td>64.44115</td><td>-36.17629</td><td>5</td><td>1</td><td>1</td><td>28.081920805683676</td><td>-0.29775208235485046</td><td>0.7677634657426146</td><td>0.5671425668655812</td><td>0.015240307521814038</td><td>220.10844</td><td>-15.604244</td></tr>\n",
       "<tr><td>405303489.6</td><td>405303519.6</td><td>-3889159.8 .. 1435117.5</td><td>12.069395</td><td>76.193115</td><td>532928.7710737241</td><td>125.13208</td><td>11.988596</td><td>1.0402495</td><td>1.0021403</td><td>2.6487973</td><td>False</td><td>113.77217</td><td>-15.885897</td><td>209.51013</td><td>-19.356733</td><td>241.49323</td><td>64.441345</td><td>-30.055319</td><td>5</td><td>1</td><td>1</td><td>28.131319909524027</td><td>-0.29849841274685385</td><td>0.7401080551737386</td><td>0.602310261006886</td><td>-0.0190029929319587</td><td>220.1088</td><td>-15.60435</td></tr>\n",
       "<tr><td>405303519.6</td><td>405303549.6</td><td>-4069689.2 .. 1348082.8</td><td>11.327429</td><td>77.84703</td><td>532751.2489403058</td><td>126.91134</td><td>11.251597</td><td>1.02632</td><td>0.9978121</td><td>0.0</td><td>False</td><td>117.67427</td><td>-11.325845</td><td>211.35957</td><td>-17.792412</td><td>241.49098</td><td>64.43947</td><td>-24.371231</td><td>5</td><td>1</td><td>1</td><td>28.13868620051186</td><td>-0.3011606324702345</td><td>0.712387886126898</td><td>0.6316969777172747</td><td>-0.052580428798548774</td><td>220.10913</td><td>-15.604456</td></tr>\n",
       "<tr><td>405303549.6</td><td>405303579.6</td><td>-4245788.5 .. 1259576.0</td><td>10.574853</td><td>79.49175</td><td>532600.6261938959</td><td>128.6814</td><td>10.504059</td><td>1.0146083</td><td>0.99417573</td><td>0.0</td><td>False</td><td>121.713326</td><td>-6.4492035</td><td>213.64685</td><td>-16.619486</td><td>241.49008</td><td>64.43859</td><td>-18.318037</td><td>5</td><td>1</td><td>1</td><td>28.154800340835394</td><td>-0.3059529419306</td><td>0.6801131870961095</td><td>0.6605242310686885</td><td>-0.0868711127654131</td><td>220.10948</td><td>-15.604562</td></tr>\n",
       "<tr><td>405303579.6</td><td>405303609.6</td><td>-4417264.5 .. 1169693.5</td><td>9.812443</td><td>81.12783</td><td>532474.2155304303</td><td>130.44283</td><td>9.746753</td><td>1.0105238</td><td>0.99123585</td><td>0.0</td><td>False</td><td>125.80391</td><td>-1.5926052</td><td>216.25731</td><td>-15.887259</td><td>241.49158</td><td>64.44005</td><td>-12.244211</td><td>5</td><td>1</td><td>1</td><td>28.197320112817284</td><td>-0.31255107142232996</td><td>0.6451419540069993</td><td>0.6867136669407174</td><td>-0.12053226360447229</td><td>220.10983</td><td>-15.604668</td></tr>\n",
       "<tr><td>405303609.6</td><td>405303639.6</td><td>-4583931.0 .. 1078533.9</td><td>9.040973</td><td>82.75584</td><td>532373.3171284455</td><td>132.19617</td><td>8.980448</td><td>1.0044862</td><td>0.9889406</td><td>0.0</td><td>False</td><td>129.90913</td><td>3.1269257</td><td>219.03369</td><td>-15.625235</td><td>241.48938</td><td>64.43778</td><td>-6.2794414</td><td>5</td><td>1</td><td>1</td><td>28.158683248021788</td><td>-0.32044295107462617</td><td>0.6083110095372217</td><td>0.7099241649154331</td><td>-0.15258345536628798</td><td>220.11017</td><td>-15.6047735</td></tr>\n",
       "<tr><td>405303639.6</td><td>405303669.6</td><td>-4745607.0 .. 986197.75</td><td>8.261218</td><td>84.37635</td><td>532298.7295396115</td><td>133.94202</td><td>8.205913</td><td>1.0010188</td><td>0.98742574</td><td>0.0</td><td>False</td><td>134.09155</td><td>7.8279924</td><td>221.85196</td><td>-15.867509</td><td>241.48935</td><td>64.43772</td><td>-0.40589008</td><td>5</td><td>1</td><td>1</td><td>28.16168482943574</td><td>-0.329153211998343</td><td>0.5688219112300358</td><td>0.7312223447432664</td><td>-0.18279408875547054</td><td>220.11052</td><td>-15.604879</td></tr>\n",
       "<tr><td>405303669.6</td><td>405303691.8718188</td><td>-4902115.0 .. 892784.75</td><td>7.473931</td><td>85.989975</td><td>532249.456274429</td><td>135.681</td><td>7.423896</td><td>1.0041885</td><td>0.9866006</td><td>0.0</td><td>False</td><td>138.38367</td><td>12.506099</td><td>224.58887</td><td>-16.614222</td><td>241.4879</td><td>64.435745</td><td>5.7366676</td><td>5</td><td>1</td><td>1</td><td>20.911346392149966</td><td>-0.3381902637980489</td><td>0.5266455908261263</td><td>0.7509060250854498</td><td>-0.21074133108143872</td><td>220.11086</td><td>-15.604985</td></tr>\n",
       "</table>"
      ],
      "text/plain": [
       "<Table length=4654729>\n",
       "      START               STOP       ...   RA_SUN    DEC_SUN  \n",
       "        s                  s         ...    deg        deg    \n",
       "     float64            float64      ...  float32    float32  \n",
       "------------------ ----------------- ... --------- -----------\n",
       "239557417.49417615       239557446.6 ... 134.96822    17.05195\n",
       "       239557446.6       239557476.6 ... 134.96854    17.05186\n",
       "       239557476.6       239557506.6 ... 134.96887   17.051767\n",
       "       239557506.6       239557536.6 ... 134.96921   17.051674\n",
       "       239557536.6       239557566.6 ... 134.96954    17.05158\n",
       "       239557566.6       239557596.6 ... 134.96988   17.051487\n",
       "       239557596.6       239557626.6 ... 134.97021   17.051394\n",
       "       239557626.6       239557656.6 ... 134.97054     17.0513\n",
       "       239557656.6       239557686.6 ... 134.97087   17.051207\n",
       "               ...               ... ...       ...         ...\n",
       "       405303399.6       405303429.6 ... 220.10776 -15.6040325\n",
       "       405303429.6       405303459.6 ... 220.10811  -15.604138\n",
       "       405303459.6       405303489.6 ... 220.10844  -15.604244\n",
       "       405303489.6       405303519.6 ...  220.1088   -15.60435\n",
       "       405303519.6       405303549.6 ... 220.10913  -15.604456\n",
       "       405303549.6       405303579.6 ... 220.10948  -15.604562\n",
       "       405303579.6       405303609.6 ... 220.10983  -15.604668\n",
       "       405303609.6       405303639.6 ... 220.11017 -15.6047735\n",
       "       405303639.6       405303669.6 ... 220.11052  -15.604879\n",
       "       405303669.6 405303691.8718188 ... 220.11086  -15.604985"
      ]
     },
     "execution_count": 6,
     "metadata": {},
     "output_type": "execute_result"
    }
   ],
   "source": [
    "fermi_130"
   ]
  }
 ],
 "metadata": {
  "kernelspec": {
   "display_name": "Python 3",
   "language": "python",
   "name": "python3"
  },
  "language_info": {
   "codemirror_mode": {
    "name": "ipython",
    "version": 3
   },
   "file_extension": ".py",
   "mimetype": "text/x-python",
   "name": "python",
   "nbconvert_exporter": "python",
   "pygments_lexer": "ipython3",
   "version": "3.8.5"
  }
 },
 "nbformat": 4,
 "nbformat_minor": 4
}
